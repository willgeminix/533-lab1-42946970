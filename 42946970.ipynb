{
 "cells": [
  {
   "cell_type": "markdown",
   "id": "5a7d9983-76e4-412e-aeec-37ecf2dea6cf",
   "metadata": {},
   "source": [
    "### Question 1"
   ]
  },
  {
   "cell_type": "code",
   "execution_count": 8,
   "id": "555ed898-c7ea-448d-a846-e419d65ec95f",
   "metadata": {
    "tags": []
   },
   "outputs": [],
   "source": [
    "class Queue:\n",
    "    \n",
    "    '''\n",
    "    A queue to store the data.\n",
    "    \n",
    "    enqueue(): add the element to the queue to the last postion\n",
    "    dequeue(): remove the first element of the queue (Last in First out)\n",
    "    size(): get the number of elements in the queue\n",
    "    '''\n",
    "    \n",
    "    # initialize the Queue and store the data in a list\n",
    "    def __init__(self):\n",
    "        self.data = list()\n",
    "        \n",
    "    # add the item to the queue\n",
    "    def enqueue(self, item):\n",
    "        self.data.append(item)\n",
    "        \n",
    "    # remove the item at the front of the queue\n",
    "    def dequeue(self):\n",
    "        if self.data:\n",
    "            return self.data.pop(0)\n",
    "        else:\n",
    "            return None\n",
    "        \n",
    "    # return the size of the queue\n",
    "    def size(self):\n",
    "        return len(self.data)\n",
    "    \n",
    "    # override the __str__\n",
    "    def __str__(self):\n",
    "        if self.data:\n",
    "            return str(self.data)\n",
    "        else:\n",
    "            return \"The queue is empty\""
   ]
  },
  {
   "cell_type": "code",
   "execution_count": 9,
   "id": "2f38c2e7-b4d2-42ef-8992-fce7dd28f238",
   "metadata": {
    "tags": []
   },
   "outputs": [
    {
     "name": "stdout",
     "output_type": "stream",
     "text": [
      "[10, 20, 30]\n",
      "[20, 30]\n",
      "[20, 30, 40]\n",
      "[30, 40]\n"
     ]
    }
   ],
   "source": [
    "queue = Queue()\n",
    "queue.enqueue(10)\n",
    "queue.enqueue(20)\n",
    "queue.enqueue(30)\n",
    "print(queue)\n",
    "queue.dequeue()\n",
    "print(queue)\n",
    "queue.enqueue(40)\n",
    "print(queue)\n",
    "queue.dequeue()\n",
    "print(queue)"
   ]
  },
  {
   "cell_type": "markdown",
   "id": "468955a1-f528-4a69-8ea8-2d05a6f44489",
   "metadata": {},
   "source": [
    "### Question 2"
   ]
  },
  {
   "cell_type": "code",
   "execution_count": 19,
   "id": "af4fedd3-585e-471e-834e-496ac1560b02",
   "metadata": {
    "tags": []
   },
   "outputs": [],
   "source": [
    "class Contact:\n",
    "    \n",
    "    '''\n",
    "    Class Contact stores the name, phone number and email information of a person.\n",
    "    Contact.name: return the name of the Contact, also allow the user to set the value of name\n",
    "    Contact.phone: return the phone number of the Contact\n",
    "    Contact.email: return the email of the Contact\n",
    "    Contact.display(): display the name, phone number and email of the contact\n",
    "    '''\n",
    "    \n",
    "    count = 0\n",
    "    \n",
    "    def __init__(self, name, phoneNo, email):\n",
    "        self.__name = name\n",
    "        self.__phone = phoneNo\n",
    "        self.__email = email\n",
    "        Contact.count += 1\n",
    "        \n",
    "    # return the name attribute of the class\n",
    "    @property\n",
    "    def name(self):\n",
    "        return self.__name\n",
    "    \n",
    "    # allow users to change the name by calling self.name\n",
    "    @name.setter\n",
    "    def name(self, value):\n",
    "        self.__name = value\n",
    "    \n",
    "    # return the phone number of the class\n",
    "    @property\n",
    "    def phone(self):\n",
    "        return self.__phone\n",
    "    \n",
    "    # return the email of the class\n",
    "    @property\n",
    "    def email(self):\n",
    "        return self.__email\n",
    "    \n",
    "    # display the information of the contact\n",
    "    def displayCount(self):\n",
    "        print(\"Total Contact: {}\".format(Contact.count))"
   ]
  },
  {
   "cell_type": "code",
   "execution_count": 20,
   "id": "4f916df9-e114-4737-87e4-6979626c5a58",
   "metadata": {
    "tags": []
   },
   "outputs": [
    {
     "name": "stdout",
     "output_type": "stream",
     "text": [
      "Alex\n",
      "Total Contact: 1\n",
      "David\n",
      "Total Contact: 2\n",
      "2\n"
     ]
    }
   ],
   "source": [
    "c1 = Contact('Ale', '123-456-0123', 'alex@test.ca')\n",
    "c1.name = 'Alex'\n",
    "print(c1.name)\n",
    "c1.displayCount()\n",
    "c2 = Contact('David', '123-456-0124', 'dave@test.ca')\n",
    "print(c2.name)\n",
    "c2.displayCount()\n",
    "print(Contact.count)"
   ]
  },
  {
   "cell_type": "markdown",
   "id": "9ce82182-c058-41da-9caa-ff6bc0250b49",
   "metadata": {},
   "source": [
    "### Question 3"
   ]
  },
  {
   "cell_type": "code",
   "execution_count": 35,
   "id": "d011cf84-9f1b-4534-bc39-96d7d636de4b",
   "metadata": {
    "tags": []
   },
   "outputs": [],
   "source": [
    "class Vehicle:\n",
    "    \n",
    "    '''\n",
    "    class Vehicle that record the information of Make, Model and Year\n",
    "    '''\n",
    "    \n",
    "    def __init__(self, make, model, year):\n",
    "        self.make = make\n",
    "        self.model = model\n",
    "        self.year = year\n",
    "        \n",
    "    def display(self):\n",
    "        print(\"Make: {} Model: {} Year: {}\".format(self.make, self.model, self.year))\n",
    "        \n",
    "        \n",
    "class Truck(Vehicle):\n",
    "    \n",
    "    '''\n",
    "    class Truck that inherits from Vehicle and has another attribute of Tonnage\n",
    "    '''\n",
    "    \n",
    "    def __init__(self, make, model, year, tonnage):\n",
    "        Vehicle.__init__(self, make, model, year)\n",
    "        self.tonnage = tonnage\n",
    "        \n",
    "    def display(self):\n",
    "        Vehicle.display(self)\n",
    "        print(\"Tonnage: {}\".format(self.tonnage))\n",
    "        \n",
    "class ElectricCar(Vehicle):\n",
    "    \n",
    "    '''\n",
    "    class ElectricCar that inherits from Vehicle and has another attribute of battery\n",
    "    '''\n",
    "    \n",
    "    def __init__(self, make, model, year, battery):\n",
    "        Vehicle.__init__(self, make, model, year)\n",
    "        self.battery = battery\n",
    "        \n",
    "    def display(self):\n",
    "        Vehicle.display(self)\n",
    "        print(\"Battery: {}\".format(self.battery))"
   ]
  },
  {
   "cell_type": "code",
   "execution_count": 36,
   "id": "82c6b87c-33eb-40d9-a605-c1b8b83aa6b0",
   "metadata": {
    "tags": []
   },
   "outputs": [
    {
     "name": "stdout",
     "output_type": "stream",
     "text": [
      "Make: Ford Model: F150 Year: 2018\n",
      "Tonnage: 0.5\n",
      "Make: Tesla Model: Model S Year: 2008\n",
      "Battery: 60 kWh\n"
     ]
    }
   ],
   "source": [
    "v1 = Truck('Ford', 'F150', 2018, 0.5);\n",
    "v2 = ElectricCar('Tesla', 'Model S', 2008, '60 kWh');\n",
    "vehicles = [v1, v2]\n",
    "for vehicle in vehicles:\n",
    "    vehicle.display()"
   ]
  },
  {
   "cell_type": "markdown",
   "id": "112d473d-97ef-47f7-97cd-1f4045c84a94",
   "metadata": {},
   "source": [
    "### Question 4"
   ]
  },
  {
   "cell_type": "code",
   "execution_count": 47,
   "id": "0673970e-efc0-475a-9576-ed55b325f77c",
   "metadata": {
    "tags": []
   },
   "outputs": [],
   "source": [
    "class Conversion:\n",
    "    \n",
    "    '''\n",
    "    Class conversion stores the information of distance of different units, and allows adding and substracting \n",
    "    between distances in different units.\n",
    "    '''\n",
    "    \n",
    "    converter = {'km': 1000, 'cm':0.01, 'm':1, 'ft': 0.3048, 'yd':0.9144, 'in':0.0254, 'mi':1609.34}\n",
    "    \n",
    "    def __init__(self, value, unit = 'm'):\n",
    "        self.value = value\n",
    "        self.unit = unit\n",
    "        \n",
    "    # overriding the add method\n",
    "    def __add__(self, other):\n",
    "        if self.unit != other.unit:\n",
    "            value = self.value + (other.value * Conversion.converter[other.unit] / Conversion.converter[self.unit])\n",
    "        else:\n",
    "            value = self.value + other.value\n",
    "        new_dist = Conversion(round(value,2), self.unit)\n",
    "        return new_dist\n",
    "    \n",
    "    # overriding the substract method\n",
    "    def __sub__(self, other):\n",
    "        if self.unit != other.unit:\n",
    "            value = self.value - (other.value * Conversion.converter[other.unit] / Conversion.converter[self.unit])\n",
    "        else:\n",
    "            value = self.value - other.value\n",
    "        new_dist = Conversion(round(value,2), self.unit)\n",
    "        return new_dist\n",
    "    \n",
    "    def __str__(self):\n",
    "        return \"Total converted distance is {} {}\".format(self.value, self.unit)\n",
    "            \n",
    "            "
   ]
  },
  {
   "cell_type": "code",
   "execution_count": 48,
   "id": "56158972-052d-4628-b1a9-8f567ba25edf",
   "metadata": {
    "tags": []
   },
   "outputs": [
    {
     "name": "stdout",
     "output_type": "stream",
     "text": [
      "Total converted distance is 3.31 km\n",
      "Total converted distance is 13.94 in\n",
      "Total converted distance is -0.61 km\n",
      "Total converted distance is -2.0 ft\n"
     ]
    }
   ],
   "source": [
    "print(Conversion(3.3, \"km\") + Conversion(10))\n",
    "print(Conversion(10, \"in\") + Conversion(10, \"cm\"))\n",
    "print(Conversion(1, \"km\") - Conversion(1,\"mi\"))\n",
    "print(Conversion(1, \"ft\") - Conversion(1,\"yd\"))"
   ]
  }
 ],
 "metadata": {
  "kernelspec": {
   "display_name": "Python 3 (ipykernel)",
   "language": "python",
   "name": "python3"
  },
  "language_info": {
   "codemirror_mode": {
    "name": "ipython",
    "version": 3
   },
   "file_extension": ".py",
   "mimetype": "text/x-python",
   "name": "python",
   "nbconvert_exporter": "python",
   "pygments_lexer": "ipython3",
   "version": "3.11.5"
  }
 },
 "nbformat": 4,
 "nbformat_minor": 5
}
